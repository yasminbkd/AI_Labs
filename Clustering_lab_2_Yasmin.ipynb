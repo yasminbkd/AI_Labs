{
 "cells": [
  {
   "cell_type": "markdown",
   "metadata": {},
   "source": [
    "**Clustering of a simple dataset using Kmeans**\n",
    "\n",
    "<u>Goal:</u>\n",
    "\n",
    "The main goal is to learn how to use Kmeans with scikit-learn library\"\n",
    "\n",
    "<u>To do:</u>\n",
    "\n",
    "Complete the source code whenever you find <font color='red'>#?</font>"
   ]
  },
  {
   "cell_type": "markdown",
   "metadata": {
    "id": "r7H-PzjB8HwW"
   },
   "source": [
    "This case study concerns simple employee data.\n",
    "\n",
    "This data does not require preprocessing.\n",
    "\n",
    "The goal is to :\n",
    "- From a population of employees, apply Kmeans to find its clusters.\n",
    "- Given a new employee, predict the label of the cluster to which he belongs."
   ]
  },
  {
   "cell_type": "markdown",
   "metadata": {
    "id": "TPjaqXMU8QwN"
   },
   "source": [
    "**1. Training dataset**"
   ]
  },
  {
   "cell_type": "markdown",
   "metadata": {},
   "source": [
    "The training dataset is a <font color='red'>data table</font> where :\n",
    "- Rows are employees\n",
    "- Columns are their two numerical caracteristics : age and salary\n",
    "\n",
    "In python, the easiest way to create a numerical data table is as a <font color='red'>numpy matrix</font>."
   ]
  },
  {
   "cell_type": "code",
   "execution_count": 1,
   "metadata": {},
   "outputs": [],
   "source": [
    "# Import numpy module and give it np as alias\n",
    "import numpy as np "
   ]
  },
  {
   "cell_type": "code",
   "execution_count": 5,
   "metadata": {
    "colab": {
     "base_uri": "https://localhost:8080/",
     "height": 238
    },
    "id": "_OeP9pkgGWcw",
    "outputId": "0789213b-411d-4205-f174-6598c56fd85d"
   },
   "outputs": [
    {
     "name": "stdout",
     "output_type": "stream",
     "text": [
      "[[1200   25]\n",
      " [1300   27]\n",
      " [1100   27]\n",
      " [2500   49]\n",
      " [2400   47]\n",
      " [2600   45]]\n"
     ]
    }
   ],
   "source": [
    "# The data of employees is :\n",
    "# [[1200,25],\n",
    "# [1300,27],\n",
    "# [1100,27],\n",
    "# [2500,49],\n",
    "# [2400,47],\n",
    "# [2600,45]]\n",
    "data = np.array([\n",
    "    [1200,25],\n",
    "    [1300,27],\n",
    "    [1100,27],\n",
    "    [2500,49],\n",
    "    [2400,47],\n",
    "    [2600,45]\n",
    "])\n",
    "\n",
    "# Create a numpy matrix called X using np.array() function\n",
    "# You pass as argument the list of lists of employees above\n",
    "# Create the matrix X\n",
    "X = np.array(data)\n",
    "print(X)\n"
   ]
  },
  {
   "cell_type": "markdown",
   "metadata": {
    "id": "DK0hfldC8hT9"
   },
   "source": [
    "**2. Learning process using Kmeans**\n",
    "\n",
    "scikit-learn package implements most of the machine learning algorithms.\n",
    "In particular, <font color='red'>Kmeans</font> is implemented as <font color='red'>KMeans class</font> in <font color='red'>sklearn.cluster</font> module.\n",
    "\n",
    "KMeans class has :\n",
    "- a <font color='red'>constructor function</font> that allows to initialize hyperparameters\n",
    "- a <font color='red'>fit()</font> function that allows to fit the model given the training data\n",
    "- a <font color='red'>predict()</font> function that allows to predict the cluster label for a given new data"
   ]
  },
  {
   "cell_type": "code",
   "execution_count": 6,
   "metadata": {
    "id": "g9upC0368SxM"
   },
   "outputs": [],
   "source": [
    "# Import KMeans class\n",
    "from sklearn.cluster import KMeans"
   ]
  },
  {
   "cell_type": "code",
   "execution_count": 7,
   "metadata": {
    "colab": {
     "base_uri": "https://localhost:8080/"
    },
    "id": "sU9A-v67IdOC",
    "outputId": "82f5f0d1-5a1f-4f1e-c75f-312f5be7e53a"
   },
   "outputs": [],
   "source": [
    "# Create a KMeans instance denoted km from KMeans class\n",
    "# Initialize the hyperparameters :\n",
    "# - n_clusters : it is the main hyperparameter of Kmeans and it represents the number of clusters\n",
    "#   => In our case, the initial number of clusters = 2\n",
    "# - random_state : this is an optional hyperparameter \n",
    "#   => It makes the random choice of initial cluster center values more deterministic\n",
    "#   => We can give any value, for example random_state=0\n",
    "km = KMeans(n_clusters=2,random_state=0)"
   ]
  },
  {
   "cell_type": "code",
   "execution_count": 8,
   "metadata": {},
   "outputs": [
    {
     "data": {
      "text/plain": [
       "KMeans(n_clusters=2, random_state=0)"
      ]
     },
     "execution_count": 8,
     "metadata": {},
     "output_type": "execute_result"
    }
   ],
   "source": [
    "# Call km.fit() function and pass the training data matrix X as an argument\n",
    "km.fit(X)"
   ]
  },
  {
   "cell_type": "markdown",
   "metadata": {},
   "source": [
    "**3. Show the clusters**\n",
    "\n",
    "Once the learning process is completed, we can determine the clusters"
   ]
  },
  {
   "cell_type": "code",
   "execution_count": 11,
   "metadata": {
    "colab": {
     "base_uri": "https://localhost:8080/"
    },
    "id": "a8Oy6LVZJOu7",
    "outputId": "9b467f71-7c6f-4b49-9997-5a1e04db78c9"
   },
   "outputs": [
    {
     "data": {
      "text/plain": [
       "array([[2500.        ,   47.        ],\n",
       "       [1200.        ,   26.33333333]])"
      ]
     },
     "execution_count": 11,
     "metadata": {},
     "output_type": "execute_result"
    }
   ],
   "source": [
    "# Show the centers of clusters using cluster_centers_ attribute of km\n",
    "km.cluster_centers_"
   ]
  },
  {
   "cell_type": "code",
   "execution_count": 13,
   "metadata": {},
   "outputs": [
    {
     "data": {
      "text/plain": [
       "array([1, 1, 1, 0, 0, 0])"
      ]
     },
     "execution_count": 13,
     "metadata": {},
     "output_type": "execute_result"
    }
   ],
   "source": [
    "# Predict the labels of clusters for the training data employees\n",
    "# Call km.predict() and pass the training data matrix X as argument\n",
    "labels=km.predict(X)\n",
    "labels"
   ]
  },
  {
   "cell_type": "code",
   "execution_count": 14,
   "metadata": {},
   "outputs": [],
   "source": [
    "# Show the clusters of training dataset\n",
    "cluster0=X[labels==0]\n",
    "cluster1=X[labels==1]"
   ]
  },
  {
   "cell_type": "code",
   "execution_count": 15,
   "metadata": {},
   "outputs": [
    {
     "data": {
      "text/plain": [
       "array([[2500,   49],\n",
       "       [2400,   47],\n",
       "       [2600,   45]])"
      ]
     },
     "execution_count": 15,
     "metadata": {},
     "output_type": "execute_result"
    }
   ],
   "source": [
    "# cluster 0\n",
    "cluster0"
   ]
  },
  {
   "cell_type": "code",
   "execution_count": 16,
   "metadata": {},
   "outputs": [
    {
     "data": {
      "text/plain": [
       "array([[1200,   25],\n",
       "       [1300,   27],\n",
       "       [1100,   27]])"
      ]
     },
     "execution_count": 16,
     "metadata": {},
     "output_type": "execute_result"
    }
   ],
   "source": [
    "# cluster 1\n",
    "cluster1"
   ]
  },
  {
   "cell_type": "markdown",
   "metadata": {
    "id": "JUqqpNYKF5w3"
   },
   "source": [
    "**4. Prediction process**\n",
    "\n",
    "Once the learning process is completed, we can predict the cluster label for a new employee"
   ]
  },
  {
   "cell_type": "code",
   "execution_count": 19,
   "metadata": {
    "colab": {
     "base_uri": "https://localhost:8080/",
     "height": 81
    },
    "id": "H6_DYvPU9RJc",
    "outputId": "899bbae8-e65b-4c74-8ba3-f0f55ab94767"
   },
   "outputs": [
    {
     "data": {
      "text/plain": [
       "array([[500.67,  24.  ]])"
      ]
     },
     "execution_count": 19,
     "metadata": {},
     "output_type": "execute_result"
    }
   ],
   "source": [
    "# Let emp_new be a new employee with age 24 and salary 500.67\n",
    "# We must create it as a numpy matrix of shape 1x2 : [[500.67,24]]\n",
    "emp_new = np.array([[500.67, 24]])\n",
    "emp_new"
   ]
  },
  {
   "cell_type": "code",
   "execution_count": 20,
   "metadata": {
    "colab": {
     "base_uri": "https://localhost:8080/"
    },
    "id": "_Rbu6w6k9JgX",
    "outputId": "59f0809b-2ace-475a-e318-47f887477182"
   },
   "outputs": [
    {
     "data": {
      "text/plain": [
       "array([1])"
      ]
     },
     "execution_count": 20,
     "metadata": {},
     "output_type": "execute_result"
    }
   ],
   "source": [
    "# Predict the cluster label to which emp_new belongs\n",
    "label=km.predict(emp_new)\n",
    "label"
   ]
  },
  {
   "cell_type": "markdown",
   "metadata": {},
   "source": [
    "**5. Visualization of clusters**\n",
    "\n",
    "We can visualize the population and the obtained clusters using matplotlib library."
   ]
  },
  {
   "cell_type": "code",
   "execution_count": 21,
   "metadata": {},
   "outputs": [],
   "source": [
    "#  Import matplotlib.pyplot module and give it plt as alias\n",
    "import matplotlib.pyplot as plt"
   ]
  },
  {
   "cell_type": "markdown",
   "metadata": {},
   "source": [
    "At first, we try to visualize the population data points in a figure"
   ]
  },
  {
   "cell_type": "code",
   "execution_count": 22,
   "metadata": {},
   "outputs": [
    {
     "data": {
      "image/png": "[encoded data removed]",
      "text/plain": [
       "<Figure size 432x288 with 1 Axes>"
      ]
     },
     "metadata": {
      "needs_background": "light"
     },
     "output_type": "display_data"
    }
   ],
   "source": [
    "# We want each employee to be represented by a dot colored red\n",
    "# We use the plt.plot() function\n",
    "# It takes as arguments:\n",
    "# - the first column of X as x coordinate\n",
    "# - the second column of X as y coordinate\n",
    "# - 'r+': the letter r designates the red color of the point and + designates the symbol of the point\n",
    "plt.plot(X[:, 0], X[:, 1],'r+')\n",
    "\n",
    "# We can give a labels for x-axis and y-axis\n",
    "plt.xlabel('Salary')\n",
    "plt.ylabel('Age')\n",
    "# We can give a title for the figure\n",
    "plt.title('Population of employees')\n",
    "plt.show()"
   ]
  },
  {
   "cell_type": "markdown",
   "metadata": {},
   "source": [
    "Now, copy-paste the code above and update it to visualize rather the clusters in the same figure"
   ]
  },
  {
   "cell_type": "code",
   "execution_count": 28,
   "metadata": {},
   "outputs": [
    {
     "data": {
      "image/png": "[encoded data removed]",
      "text/plain": [
       "<Figure size 432x288 with 1 Axes>"
      ]
     },
     "metadata": {
      "needs_background": "light"
     },
     "output_type": "display_data"
    }
   ],
   "source": [
    "# Show the clusters using plt.plot()\n",
    "# The points of the first cluster cluster0 are colored in blue\n",
    "# The points of the first cluster cluster0 are colored in green\n",
    "# For each cluster associate a legend label\n",
    "plt.plot(X[labels == 0, 0], X[labels == 0, 1], 'b+', label='Cluster 0')\n",
    "plt.plot(X[labels == 1, 0], X[labels == 1, 1], 'g+', label='Cluster 1')\n",
    "# Show the cluster centers with yellow color and o symbol \n",
    "cluster_centers = km.cluster_centers_\n",
    "plt.plot(cluster_centers[:, 0], cluster_centers[:, 1], 'yo', label='Cluster Centers')\n",
    "\n",
    "# To enable the legend, call plt.legend()\n",
    "plt.xlabel('Salary')\n",
    "plt.ylabel('Age')\n",
    "plt.legend()\n",
    "plt.title('Clusters of employees')\n",
    "plt.show()"
   ]
  },
  {
   "cell_type": "code",
   "execution_count": null,
   "metadata": {},
   "outputs": [],
   "source": []
  }
 ],
 "metadata": {
  "colab": {
   "collapsed_sections": [],
   "provenance": []
  },
  "kernelspec": {
   "display_name": "Python 3",
   "language": "python",
   "name": "python3"
  },
  "language_info": {
   "codemirror_mode": {
    "name": "ipython",
    "version": 3
   },
   "file_extension": ".py",
   "mimetype": "text/x-python",
   "name": "python",
   "nbconvert_exporter": "python",
   "pygments_lexer": "ipython3",
   "version": "3.8.5"
  }
 },
 "nbformat": 4,
 "nbformat_minor": 1
}
