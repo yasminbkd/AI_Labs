{
 "cells": [
  {
   "cell_type": "markdown",
   "metadata": {},
   "source": [
    "The goal of this Lab is to implement the clustering technique Kmeans as a Python class.\n",
    "\n",
    "To do it, follow the steps below.\n",
    "\n",
    "Meanwhile, we will test Kmeans implementation using a training population of employees.\n",
    "\n",
    "<b>Todo :</b> Replace <font color=red>#?</font> by an appropriate Python code"
   ]
  },
  {
   "cell_type": "markdown",
   "metadata": {
    "id": "RZE688fxoVxA"
   },
   "source": [
    "Step 1. Define a training dataset of employees"
   ]
  },
  {
   "cell_type": "code",
   "execution_count": 1,
   "metadata": {
    "id": "ZNqbYnVqqCv-"
   },
   "outputs": [],
   "source": [
    "import numpy as np"
   ]
  },
  {
   "cell_type": "code",
   "execution_count": 2,
   "metadata": {
    "id": "y9LorviaoTrM"
   },
   "outputs": [
    {
     "name": "stdout",
     "output_type": "stream",
     "text": [
      "[[  30.   1300.5 ]\n",
      " [  48.   2500.7 ]\n",
      " [  25.   1100.5 ]\n",
      " [  45.   1900.75]]\n"
     ]
    }
   ],
   "source": [
    "# Declare a numpy matrix denoted X\n",
    "# It represents a population of employees\n",
    "# The matrix rows are employees\n",
    "# The matrix columns are their properties : age and salary\n",
    "# The data of employees : (30,1300.5) , (48, 2500.7) , (25, 1100.5) , (45, 1900.75)\n",
    "data = np.array([\n",
    "    [30, 1300.5],\n",
    "    [48, 2500.7],\n",
    "    [25, 1100.5],\n",
    "    [45, 1900.75]\n",
    "])\n",
    "\n",
    "# Create the matrix X\n",
    "X = np.array(data)\n",
    "print(X)"
   ]
  },
  {
   "cell_type": "markdown",
   "metadata": {
    "id": "2BjjG_LfqGY2"
   },
   "source": [
    "Step 2. Define Kmeans hyperparameters"
   ]
  },
  {
   "cell_type": "code",
   "execution_count": 3,
   "metadata": {
    "id": "47kFHzcXrHww"
   },
   "outputs": [],
   "source": [
    "# Kmeans hyperparameters are defined as attributes\n",
    "# The most important hyperparameter of Kmeans is the number of clusters.\n",
    "# It is manually assigned.\n",
    "# It denoted k \n",
    "# It has 2 as default value\n",
    "# Complete the code\n",
    "class Kmeans :\n",
    "  def __init__(self, k=2):\n",
    "    self.k= k  # pour stocke la valeur de l'hyperparamètre k "
   ]
  },
  {
   "cell_type": "code",
   "execution_count": 4,
   "metadata": {},
   "outputs": [
    {
     "data": {
      "text/plain": [
       "2"
      ]
     },
     "execution_count": 4,
     "metadata": {},
     "output_type": "execute_result"
    }
   ],
   "source": [
    "# Run test\n",
    "km=Kmeans(k=2)\n",
    "km.k"
   ]
  },
  {
   "cell_type": "markdown",
   "metadata": {
    "id": "0IyaPzv1rUqf"
   },
   "source": [
    "Step 3. Define Kmeans model parameters"
   ]
  },
  {
   "cell_type": "code",
   "execution_count": 5,
   "metadata": {
    "id": "FXtqXpA9rXF7"
   },
   "outputs": [],
   "source": [
    "# Kmeans parameters are defined as attributes\n",
    "# Kmeans has one parameter : It is the cluster centers\n",
    "# It is denoted centers\n",
    "# It is assigned None value before learning process\n",
    "# Complete the code :\n",
    "class Kmeans :\n",
    "  def __init__(self, k=2):\n",
    "    self.k= k\n",
    "    self.centers= None # the cluster centers assigned None value before learning process "
   ]
  },
  {
   "cell_type": "code",
   "execution_count": 6,
   "metadata": {},
   "outputs": [],
   "source": [
    "# Run test\n",
    "km=Kmeans(k=2)\n",
    "km.centers\n",
    "# the result will not appear because it has a None value "
   ]
  },
  {
   "cell_type": "markdown",
   "metadata": {
    "id": "1hz772-Cr9DW"
   },
   "source": [
    "Step 4. Define the learning process"
   ]
  },
  {
   "cell_type": "code",
   "execution_count": 7,
   "metadata": {
    "id": "T8OCO6afsAga"
   },
   "outputs": [],
   "source": [
    "# The learning process of Kmeans is implemented in fit() function\n",
    "# Define fit() function that :\n",
    "# - takes as input training data matrix X\n",
    "# - iteratively estimates the cluster centers\n",
    "# - returns the class object (self)\n",
    "from sklearn.cluster import KMeans # for iteratively estimates the cluster centers\n",
    "class Kmeans :\n",
    "  def __init__(self, k=2):\n",
    "    self.k= k \n",
    "    self.model = KMeans(n_clusters=k) # Creating an instance of the sklearn KMeans class with k clusters iteratively\n",
    "  def fit(self, X):\n",
    "    self.model.fit(X) #Learning process with X data \n",
    "     #The cluster centers calculated by the K-means model are retrieved using self.model.cluster_centers_\n",
    "     #and stored in the self.centers attribute.\n",
    "    self.centers = self.model.cluster_centers \n",
    "    return self"
   ]
  },
  {
   "cell_type": "code",
   "execution_count": 10,
   "metadata": {},
   "outputs": [
    {
     "data": {
      "text/plain": [
       "array([[  27.5  , 1200.5  ],\n",
       "       [  46.5  , 2200.725]])"
      ]
     },
     "execution_count": 10,
     "metadata": {},
     "output_type": "execute_result"
    }
   ],
   "source": [
    "# Run test\n",
    "km=Kmeans(k=2)\n",
    "km.fit(X)\n",
    "km.centers\n",
    "# k=2, there will be two cluster centers \n",
    "# the output will depend on the random initialization "
   ]
  },
  {
   "cell_type": "markdown",
   "metadata": {
    "id": "x2SouTeNsBCO"
   },
   "source": [
    "Step 5. Define the prediction process"
   ]
  },
  {
   "cell_type": "code",
   "execution_count": 16,
   "metadata": {
    "id": "YrTE2xEJsC2P"
   },
   "outputs": [],
   "source": [
    "# The prediction process of Kmeans is implemented in predict() function\n",
    "# Define predict() function that :\n",
    "# - takes as input a employee vector x\n",
    "# - predicts the label of cluster (an integer) to which x belongs, ie it can be {0,1,..,k-1}\n",
    "# - returns the predicted label\n",
    "class Kmeans:\n",
    "    def __init__(self, k=2):\n",
    "        self.k = k\n",
    "        self.centers = None\n",
    "        self.model = KMeans(n_clusters=k)  # Initialize the KMeans model\n",
    "\n",
    "    def fit(self, X):\n",
    "        self.model.fit(X)  # Learning process with X data\n",
    "        # The cluster centers calculated by the K-means model are retrieved using self.model.cluster_centers_\n",
    "        # and stored in the self.centers attribute.\n",
    "        self.centers = self.model.cluster_centers_\n",
    "        return self\n",
    "\n",
    "    def predict(self, x):\n",
    "        if self.centers is None:\n",
    "            raise ValueError(\"Cluster centers have not been initialized. Please fit the model first.\")\n",
    "\n",
    "        distances = np.linalg.norm(self.centers - x, axis=1)\n",
    "        label = np.argmin(distances)\n",
    "        return label"
   ]
  },
  {
   "cell_type": "code",
   "execution_count": 21,
   "metadata": {},
   "outputs": [
    {
     "data": {
      "text/plain": [
       "1"
      ]
     },
     "execution_count": 21,
     "metadata": {},
     "output_type": "execute_result"
    }
   ],
   "source": [
    "# Run test\n",
    "# predict which cluster a new employe x with age=29 and salary=1400 belongs to\n",
    "x=np.array([29,1400])\n",
    "km=Kmeans(k=2)\n",
    "km.fit(X)\n",
    "label=km.predict(x)\n",
    "label"
   ]
  },
  {
   "cell_type": "code",
   "execution_count": null,
   "metadata": {},
   "outputs": [],
   "source": []
  }
 ],
 "metadata": {
  "colab": {
   "provenance": []
  },
  "kernelspec": {
   "display_name": "Python 3",
   "language": "python",
   "name": "python3"
  },
  "language_info": {
   "codemirror_mode": {
    "name": "ipython",
    "version": 3
   },
   "file_extension": ".py",
   "mimetype": "text/x-python",
   "name": "python",
   "nbconvert_exporter": "python",
   "pygments_lexer": "ipython3",
   "version": "3.8.5"
  }
 },
 "nbformat": 4,
 "nbformat_minor": 1
}
